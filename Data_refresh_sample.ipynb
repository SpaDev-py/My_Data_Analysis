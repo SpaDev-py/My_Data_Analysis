{
 "cells": [
  {
   "cell_type": "code",
   "execution_count": 1,
   "metadata": {},
   "outputs": [],
   "source": [
    "import pandas as pd\n",
    "from matplotlib import pyplot as plt\n",
    "%matplotlib inline\n",
    "import numpy as np"
   ]
  },
  {
   "cell_type": "code",
   "execution_count": 2,
   "metadata": {},
   "outputs": [
    {
     "data": {
      "text/html": [
       "<div>\n",
       "<style scoped>\n",
       "    .dataframe tbody tr th:only-of-type {\n",
       "        vertical-align: middle;\n",
       "    }\n",
       "\n",
       "    .dataframe tbody tr th {\n",
       "        vertical-align: top;\n",
       "    }\n",
       "\n",
       "    .dataframe thead th {\n",
       "        text-align: right;\n",
       "    }\n",
       "</style>\n",
       "<table border=\"1\" class=\"dataframe\">\n",
       "  <thead>\n",
       "    <tr style=\"text-align: right;\">\n",
       "      <th></th>\n",
       "      <th>Ship Mode</th>\n",
       "      <th>Profit</th>\n",
       "      <th>Unit Price</th>\n",
       "      <th>Shipping Cost</th>\n",
       "      <th>Customer Name</th>\n",
       "    </tr>\n",
       "  </thead>\n",
       "  <tbody>\n",
       "    <tr>\n",
       "      <th>0</th>\n",
       "      <td>Regular Air</td>\n",
       "      <td>-213.2500</td>\n",
       "      <td>38.94</td>\n",
       "      <td>35.00</td>\n",
       "      <td>Muhammed MacIntyre</td>\n",
       "    </tr>\n",
       "    <tr>\n",
       "      <th>1</th>\n",
       "      <td>Delivery Truck</td>\n",
       "      <td>457.8100</td>\n",
       "      <td>208.16</td>\n",
       "      <td>68.02</td>\n",
       "      <td>Barry French</td>\n",
       "    </tr>\n",
       "    <tr>\n",
       "      <th>2</th>\n",
       "      <td>Regular Air</td>\n",
       "      <td>46.7075</td>\n",
       "      <td>8.69</td>\n",
       "      <td>2.99</td>\n",
       "      <td>Barry French</td>\n",
       "    </tr>\n",
       "    <tr>\n",
       "      <th>3</th>\n",
       "      <td>Regular Air</td>\n",
       "      <td>1198.9710</td>\n",
       "      <td>195.99</td>\n",
       "      <td>3.99</td>\n",
       "      <td>Clay Rozendal</td>\n",
       "    </tr>\n",
       "    <tr>\n",
       "      <th>4</th>\n",
       "      <td>Regular Air</td>\n",
       "      <td>-4.7150</td>\n",
       "      <td>5.28</td>\n",
       "      <td>2.99</td>\n",
       "      <td>Claudia Miner</td>\n",
       "    </tr>\n",
       "  </tbody>\n",
       "</table>\n",
       "</div>"
      ],
      "text/plain": [
       "        Ship Mode     Profit  Unit Price  Shipping Cost       Customer Name\n",
       "0     Regular Air  -213.2500       38.94          35.00  Muhammed MacIntyre\n",
       "1  Delivery Truck   457.8100      208.16          68.02        Barry French\n",
       "2     Regular Air    46.7075        8.69           2.99        Barry French\n",
       "3     Regular Air  1198.9710      195.99           3.99       Clay Rozendal\n",
       "4     Regular Air    -4.7150        5.28           2.99       Claudia Miner"
      ]
     },
     "execution_count": 2,
     "metadata": {},
     "output_type": "execute_result"
    }
   ],
   "source": [
    "df = pd.read_excel('Data Refresh Sample Data.xlsx')\n",
    "df.head()"
   ]
  },
  {
   "cell_type": "code",
   "execution_count": 3,
   "metadata": {},
   "outputs": [
    {
     "name": "stdout",
     "output_type": "stream",
     "text": [
      "<class 'pandas.core.frame.DataFrame'>\n",
      "RangeIndex: 22 entries, 0 to 21\n",
      "Data columns (total 5 columns):\n",
      "Ship Mode        22 non-null object\n",
      "Profit           22 non-null float64\n",
      "Unit Price       22 non-null float64\n",
      "Shipping Cost    22 non-null float64\n",
      "Customer Name    22 non-null object\n",
      "dtypes: float64(3), object(2)\n",
      "memory usage: 960.0+ bytes\n"
     ]
    }
   ],
   "source": [
    "df.info()"
   ]
  },
  {
   "cell_type": "code",
   "execution_count": 4,
   "metadata": {},
   "outputs": [
    {
     "data": {
      "text/plain": [
       "Ship Mode        0\n",
       "Profit           0\n",
       "Unit Price       0\n",
       "Shipping Cost    0\n",
       "Customer Name    0\n",
       "dtype: int64"
      ]
     },
     "execution_count": 4,
     "metadata": {},
     "output_type": "execute_result"
    }
   ],
   "source": [
    "# Thankfully no missing values\n",
    "\n",
    "df.isnull().sum()"
   ]
  },
  {
   "cell_type": "code",
   "execution_count": 6,
   "metadata": {},
   "outputs": [
    {
     "data": {
      "text/plain": [
       "(22, 5)"
      ]
     },
     "execution_count": 6,
     "metadata": {},
     "output_type": "execute_result"
    }
   ],
   "source": [
    "# Only a handfull of data... should be easy-peacy\n",
    "\n",
    "df.shape"
   ]
  },
  {
   "cell_type": "code",
   "execution_count": 7,
   "metadata": {},
   "outputs": [
    {
     "data": {
      "text/plain": [
       "0        Regular Air\n",
       "1     Delivery Truck\n",
       "2        Regular Air\n",
       "3        Regular Air\n",
       "4        Regular Air\n",
       "5        Regular Air\n",
       "6        Regular Air\n",
       "7     Delivery Truck\n",
       "8        Regular Air\n",
       "9        Regular Air\n",
       "10       Regular Air\n",
       "11       Express Air\n",
       "12       Regular Air\n",
       "13       Regular Air\n",
       "14       Regular Air\n",
       "15       Regular Air\n",
       "16       Regular Air\n",
       "17    Delivery Truck\n",
       "18       Regular Air\n",
       "19    Delivery Truck\n",
       "20       Regular Air\n",
       "21    Delivery Truck\n",
       "Name: Ship Mode, dtype: object"
      ]
     },
     "execution_count": 7,
     "metadata": {},
     "output_type": "execute_result"
    }
   ],
   "source": [
    "df['Ship Mode']"
   ]
  },
  {
   "cell_type": "code",
   "execution_count": 8,
   "metadata": {},
   "outputs": [],
   "source": [
    "# Dropping the customer name column which isn't relevant in the analysis\n",
    "\n",
    "df2 = df.drop('Customer Name', axis = 1)"
   ]
  },
  {
   "cell_type": "code",
   "execution_count": 9,
   "metadata": {
    "scrolled": true
   },
   "outputs": [
    {
     "data": {
      "text/html": [
       "<div>\n",
       "<style scoped>\n",
       "    .dataframe tbody tr th:only-of-type {\n",
       "        vertical-align: middle;\n",
       "    }\n",
       "\n",
       "    .dataframe tbody tr th {\n",
       "        vertical-align: top;\n",
       "    }\n",
       "\n",
       "    .dataframe thead th {\n",
       "        text-align: right;\n",
       "    }\n",
       "</style>\n",
       "<table border=\"1\" class=\"dataframe\">\n",
       "  <thead>\n",
       "    <tr style=\"text-align: right;\">\n",
       "      <th></th>\n",
       "      <th>Ship Mode</th>\n",
       "      <th>Profit</th>\n",
       "      <th>Unit Price</th>\n",
       "      <th>Shipping Cost</th>\n",
       "    </tr>\n",
       "  </thead>\n",
       "  <tbody>\n",
       "    <tr>\n",
       "      <th>0</th>\n",
       "      <td>Regular Air</td>\n",
       "      <td>-213.2500</td>\n",
       "      <td>38.94</td>\n",
       "      <td>35.00</td>\n",
       "    </tr>\n",
       "    <tr>\n",
       "      <th>1</th>\n",
       "      <td>Delivery Truck</td>\n",
       "      <td>457.8100</td>\n",
       "      <td>208.16</td>\n",
       "      <td>68.02</td>\n",
       "    </tr>\n",
       "    <tr>\n",
       "      <th>2</th>\n",
       "      <td>Regular Air</td>\n",
       "      <td>46.7075</td>\n",
       "      <td>8.69</td>\n",
       "      <td>2.99</td>\n",
       "    </tr>\n",
       "    <tr>\n",
       "      <th>3</th>\n",
       "      <td>Regular Air</td>\n",
       "      <td>1198.9710</td>\n",
       "      <td>195.99</td>\n",
       "      <td>3.99</td>\n",
       "    </tr>\n",
       "    <tr>\n",
       "      <th>4</th>\n",
       "      <td>Regular Air</td>\n",
       "      <td>-4.7150</td>\n",
       "      <td>5.28</td>\n",
       "      <td>2.99</td>\n",
       "    </tr>\n",
       "    <tr>\n",
       "      <th>5</th>\n",
       "      <td>Regular Air</td>\n",
       "      <td>782.9100</td>\n",
       "      <td>39.89</td>\n",
       "      <td>3.04</td>\n",
       "    </tr>\n",
       "    <tr>\n",
       "      <th>6</th>\n",
       "      <td>Regular Air</td>\n",
       "      <td>93.8000</td>\n",
       "      <td>15.74</td>\n",
       "      <td>1.39</td>\n",
       "    </tr>\n",
       "    <tr>\n",
       "      <th>7</th>\n",
       "      <td>Delivery Truck</td>\n",
       "      <td>440.7200</td>\n",
       "      <td>100.98</td>\n",
       "      <td>26.22</td>\n",
       "    </tr>\n",
       "    <tr>\n",
       "      <th>8</th>\n",
       "      <td>Regular Air</td>\n",
       "      <td>-481.0410</td>\n",
       "      <td>100.98</td>\n",
       "      <td>69.00</td>\n",
       "    </tr>\n",
       "    <tr>\n",
       "      <th>9</th>\n",
       "      <td>Regular Air</td>\n",
       "      <td>-11.6820</td>\n",
       "      <td>65.99</td>\n",
       "      <td>5.26</td>\n",
       "    </tr>\n",
       "    <tr>\n",
       "      <th>10</th>\n",
       "      <td>Regular Air</td>\n",
       "      <td>313.5780</td>\n",
       "      <td>155.99</td>\n",
       "      <td>8.99</td>\n",
       "    </tr>\n",
       "    <tr>\n",
       "      <th>11</th>\n",
       "      <td>Express Air</td>\n",
       "      <td>26.9200</td>\n",
       "      <td>3.69</td>\n",
       "      <td>0.50</td>\n",
       "    </tr>\n",
       "    <tr>\n",
       "      <th>12</th>\n",
       "      <td>Regular Air</td>\n",
       "      <td>-5.7700</td>\n",
       "      <td>4.71</td>\n",
       "      <td>0.70</td>\n",
       "    </tr>\n",
       "    <tr>\n",
       "      <th>13</th>\n",
       "      <td>Regular Air</td>\n",
       "      <td>-172.8795</td>\n",
       "      <td>15.99</td>\n",
       "      <td>13.18</td>\n",
       "    </tr>\n",
       "    <tr>\n",
       "      <th>14</th>\n",
       "      <td>Regular Air</td>\n",
       "      <td>-144.5500</td>\n",
       "      <td>4.89</td>\n",
       "      <td>4.93</td>\n",
       "    </tr>\n",
       "    <tr>\n",
       "      <th>15</th>\n",
       "      <td>Regular Air</td>\n",
       "      <td>5.7600</td>\n",
       "      <td>2.88</td>\n",
       "      <td>0.70</td>\n",
       "    </tr>\n",
       "    <tr>\n",
       "      <th>16</th>\n",
       "      <td>Regular Air</td>\n",
       "      <td>252.6600</td>\n",
       "      <td>40.96</td>\n",
       "      <td>1.99</td>\n",
       "    </tr>\n",
       "    <tr>\n",
       "      <th>17</th>\n",
       "      <td>Delivery Truck</td>\n",
       "      <td>-1766.0100</td>\n",
       "      <td>95.95</td>\n",
       "      <td>74.35</td>\n",
       "    </tr>\n",
       "    <tr>\n",
       "      <th>18</th>\n",
       "      <td>Regular Air</td>\n",
       "      <td>-236.2675</td>\n",
       "      <td>3.89</td>\n",
       "      <td>7.01</td>\n",
       "    </tr>\n",
       "    <tr>\n",
       "      <th>19</th>\n",
       "      <td>Delivery Truck</td>\n",
       "      <td>80.4400</td>\n",
       "      <td>120.98</td>\n",
       "      <td>30.00</td>\n",
       "    </tr>\n",
       "    <tr>\n",
       "      <th>20</th>\n",
       "      <td>Regular Air</td>\n",
       "      <td>118.9400</td>\n",
       "      <td>500.98</td>\n",
       "      <td>5.76</td>\n",
       "    </tr>\n",
       "    <tr>\n",
       "      <th>21</th>\n",
       "      <td>Delivery Truck</td>\n",
       "      <td>3424.2200</td>\n",
       "      <td>500.98</td>\n",
       "      <td>26.00</td>\n",
       "    </tr>\n",
       "  </tbody>\n",
       "</table>\n",
       "</div>"
      ],
      "text/plain": [
       "         Ship Mode     Profit  Unit Price  Shipping Cost\n",
       "0      Regular Air  -213.2500       38.94          35.00\n",
       "1   Delivery Truck   457.8100      208.16          68.02\n",
       "2      Regular Air    46.7075        8.69           2.99\n",
       "3      Regular Air  1198.9710      195.99           3.99\n",
       "4      Regular Air    -4.7150        5.28           2.99\n",
       "5      Regular Air   782.9100       39.89           3.04\n",
       "6      Regular Air    93.8000       15.74           1.39\n",
       "7   Delivery Truck   440.7200      100.98          26.22\n",
       "8      Regular Air  -481.0410      100.98          69.00\n",
       "9      Regular Air   -11.6820       65.99           5.26\n",
       "10     Regular Air   313.5780      155.99           8.99\n",
       "11     Express Air    26.9200        3.69           0.50\n",
       "12     Regular Air    -5.7700        4.71           0.70\n",
       "13     Regular Air  -172.8795       15.99          13.18\n",
       "14     Regular Air  -144.5500        4.89           4.93\n",
       "15     Regular Air     5.7600        2.88           0.70\n",
       "16     Regular Air   252.6600       40.96           1.99\n",
       "17  Delivery Truck -1766.0100       95.95          74.35\n",
       "18     Regular Air  -236.2675        3.89           7.01\n",
       "19  Delivery Truck    80.4400      120.98          30.00\n",
       "20     Regular Air   118.9400      500.98           5.76\n",
       "21  Delivery Truck  3424.2200      500.98          26.00"
      ]
     },
     "execution_count": 9,
     "metadata": {},
     "output_type": "execute_result"
    }
   ],
   "source": [
    "df2"
   ]
  },
  {
   "cell_type": "code",
   "execution_count": 16,
   "metadata": {},
   "outputs": [
    {
     "data": {
      "text/plain": [
       "Ship Mode\n",
       "Delivery Truck     5\n",
       "Express Air        1\n",
       "Regular Air       16\n",
       "Name: Ship Mode, dtype: int64"
      ]
     },
     "execution_count": 16,
     "metadata": {},
     "output_type": "execute_result"
    }
   ],
   "source": [
    "df2.groupby('Ship Mode')['Ship Mode'].agg('count')"
   ]
  },
  {
   "cell_type": "markdown",
   "metadata": {},
   "source": [
    "seems like about 72% of the shipping modes have been made through Regular Air... whatever that is"
   ]
  },
  {
   "cell_type": "code",
   "execution_count": 17,
   "metadata": {},
   "outputs": [
    {
     "data": {
      "text/html": [
       "<div>\n",
       "<style scoped>\n",
       "    .dataframe tbody tr th:only-of-type {\n",
       "        vertical-align: middle;\n",
       "    }\n",
       "\n",
       "    .dataframe tbody tr th {\n",
       "        vertical-align: top;\n",
       "    }\n",
       "\n",
       "    .dataframe thead th {\n",
       "        text-align: right;\n",
       "    }\n",
       "</style>\n",
       "<table border=\"1\" class=\"dataframe\">\n",
       "  <thead>\n",
       "    <tr style=\"text-align: right;\">\n",
       "      <th></th>\n",
       "      <th>Profit</th>\n",
       "      <th>Unit Price</th>\n",
       "      <th>Shipping Cost</th>\n",
       "    </tr>\n",
       "    <tr>\n",
       "      <th>Ship Mode</th>\n",
       "      <th></th>\n",
       "      <th></th>\n",
       "      <th></th>\n",
       "    </tr>\n",
       "  </thead>\n",
       "  <tbody>\n",
       "    <tr>\n",
       "      <th>Delivery Truck</th>\n",
       "      <td>527.436000</td>\n",
       "      <td>205.410000</td>\n",
       "      <td>44.9180</td>\n",
       "    </tr>\n",
       "    <tr>\n",
       "      <th>Express Air</th>\n",
       "      <td>26.920000</td>\n",
       "      <td>3.690000</td>\n",
       "      <td>0.5000</td>\n",
       "    </tr>\n",
       "    <tr>\n",
       "      <th>Regular Air</th>\n",
       "      <td>96.448219</td>\n",
       "      <td>75.111875</td>\n",
       "      <td>10.4325</td>\n",
       "    </tr>\n",
       "  </tbody>\n",
       "</table>\n",
       "</div>"
      ],
      "text/plain": [
       "                    Profit  Unit Price  Shipping Cost\n",
       "Ship Mode                                            \n",
       "Delivery Truck  527.436000  205.410000        44.9180\n",
       "Express Air      26.920000    3.690000         0.5000\n",
       "Regular Air      96.448219   75.111875        10.4325"
      ]
     },
     "execution_count": 17,
     "metadata": {},
     "output_type": "execute_result"
    }
   ],
   "source": [
    "df2.groupby('Ship Mode').mean()"
   ]
  },
  {
   "cell_type": "markdown",
   "metadata": {},
   "source": [
    "Interesting because despite having 72% of shipping done through Regular Air while Delivery Truck only having just 22%, Delivery Truck has made more profit but could be due to one of these reasons;\n",
    "\n",
    "<ol>\n",
    "    <li>Delivery Truck has more average Unit price of goods (205.41) than Regular air (75.11)</li>\n",
    "    <li>Also Delivery Truck has more expensive shipping cost (44.91) which could directly inflate their profit compared to Regular Air (10.43)</li>\n",
    "    <li>And lastly from the raw data Regular Air has more negative values in their profits which could be debts and lead to a fall in their profits</li>\n",
    "<ol>"
   ]
  },
  {
   "cell_type": "code",
   "execution_count": 18,
   "metadata": {},
   "outputs": [
    {
     "data": {
      "text/html": [
       "<div>\n",
       "<style scoped>\n",
       "    .dataframe tbody tr th:only-of-type {\n",
       "        vertical-align: middle;\n",
       "    }\n",
       "\n",
       "    .dataframe tbody tr th {\n",
       "        vertical-align: top;\n",
       "    }\n",
       "\n",
       "    .dataframe thead th {\n",
       "        text-align: right;\n",
       "    }\n",
       "</style>\n",
       "<table border=\"1\" class=\"dataframe\">\n",
       "  <thead>\n",
       "    <tr style=\"text-align: right;\">\n",
       "      <th></th>\n",
       "      <th>Profit</th>\n",
       "      <th>Unit Price</th>\n",
       "      <th>Shipping Cost</th>\n",
       "    </tr>\n",
       "    <tr>\n",
       "      <th>Ship Mode</th>\n",
       "      <th></th>\n",
       "      <th></th>\n",
       "      <th></th>\n",
       "    </tr>\n",
       "  </thead>\n",
       "  <tbody>\n",
       "    <tr>\n",
       "      <th>Delivery Truck</th>\n",
       "      <td>440.7200</td>\n",
       "      <td>120.980</td>\n",
       "      <td>30.00</td>\n",
       "    </tr>\n",
       "    <tr>\n",
       "      <th>Express Air</th>\n",
       "      <td>26.9200</td>\n",
       "      <td>3.690</td>\n",
       "      <td>0.50</td>\n",
       "    </tr>\n",
       "    <tr>\n",
       "      <th>Regular Air</th>\n",
       "      <td>0.5225</td>\n",
       "      <td>27.465</td>\n",
       "      <td>4.46</td>\n",
       "    </tr>\n",
       "  </tbody>\n",
       "</table>\n",
       "</div>"
      ],
      "text/plain": [
       "                  Profit  Unit Price  Shipping Cost\n",
       "Ship Mode                                          \n",
       "Delivery Truck  440.7200     120.980          30.00\n",
       "Express Air      26.9200       3.690           0.50\n",
       "Regular Air       0.5225      27.465           4.46"
      ]
     },
     "execution_count": 18,
     "metadata": {},
     "output_type": "execute_result"
    }
   ],
   "source": [
    "df2.groupby('Ship Mode').median()"
   ]
  },
  {
   "cell_type": "markdown",
   "metadata": {},
   "source": [
    "Now if we look at the data from a median perspective we realize Regular Air actually made 0 profits while the least used mode (Express Air) made more profit than it"
   ]
  },
  {
   "cell_type": "code",
   "execution_count": null,
   "metadata": {},
   "outputs": [],
   "source": [
    "# Now to visualize all the details"
   ]
  },
  {
   "cell_type": "code",
   "execution_count": 20,
   "metadata": {},
   "outputs": [
    {
     "data": {
      "text/plain": [
       "Index(['Ship Mode', 'Profit', 'Unit Price', 'Shipping Cost'], dtype='object')"
      ]
     },
     "execution_count": 20,
     "metadata": {},
     "output_type": "execute_result"
    }
   ],
   "source": [
    "df2.columns"
   ]
  },
  {
   "cell_type": "code",
   "execution_count": 81,
   "metadata": {},
   "outputs": [],
   "source": [
    "Delivery_Mean = df2.groupby('Ship Mode')['Profit'].agg('mean')[0]"
   ]
  },
  {
   "cell_type": "code",
   "execution_count": 82,
   "metadata": {},
   "outputs": [],
   "source": [
    "Express_Mean = df2.groupby('Ship Mode')['Profit'].agg('mean')[1]"
   ]
  },
  {
   "cell_type": "code",
   "execution_count": 83,
   "metadata": {},
   "outputs": [],
   "source": [
    "Regular_Mean = df2.groupby('Ship Mode')['Profit'].agg('mean')[2]"
   ]
  },
  {
   "cell_type": "code",
   "execution_count": 88,
   "metadata": {},
   "outputs": [],
   "source": [
    "All_mean = [Delivery_Mean, Express_Mean, Regular_Mean]"
   ]
  },
  {
   "cell_type": "code",
   "execution_count": 89,
   "metadata": {},
   "outputs": [],
   "source": [
    "All_name = ['Delivery Truck', 'Express Air', 'Regular Air']"
   ]
  },
  {
   "cell_type": "code",
   "execution_count": 99,
   "metadata": {},
   "outputs": [
    {
     "data": {
      "image/png": "[encoded data removed]",
      "text/plain": [
       "<Figure size 864x504 with 1 Axes>"
      ]
     },
     "metadata": {
      "needs_background": "light"
     },
     "output_type": "display_data"
    }
   ],
   "source": [
    "plt.title('Average Mean distribution for all Shipping modes', fontsize = 15, pad = 30)\n",
    "plt.xlabel('Ship Mode', fontsize = 20, labelpad = 30)\n",
    "plt.ylabel('Average Mean', fontsize = 20, labelpad = 30)\n",
    "plt.rcParams['figure.figsize'] = (12, 5)\n",
    "plt.bar(All_name, All_mean, color = 'green');\n"
   ]
  },
  {
   "cell_type": "code",
   "execution_count": null,
   "metadata": {},
   "outputs": [],
   "source": []
  }
 ],
 "metadata": {
  "kernelspec": {
   "display_name": "Python 3",
   "language": "python",
   "name": "python3"
  },
  "language_info": {
   "codemirror_mode": {
    "name": "ipython",
    "version": 3
   },
   "file_extension": ".py",
   "mimetype": "text/x-python",
   "name": "python",
   "nbconvert_exporter": "python",
   "pygments_lexer": "ipython3",
   "version": "3.7.0"
  }
 },
 "nbformat": 4,
 "nbformat_minor": 2
}
